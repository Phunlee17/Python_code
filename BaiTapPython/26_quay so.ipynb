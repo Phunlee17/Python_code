{
 "cells": [
  {
   "cell_type": "code",
   "execution_count": 1,
   "id": "1c739c65",
   "metadata": {},
   "outputs": [
    {
     "name": "stdout",
     "output_type": "stream",
     "text": [
      "------Menu-------\n",
      "vui long chon so\n",
      "1. Them so dien thoai: \n",
      "2. Xoa so dien thoai: \n",
      "3. Quay so dien thoai trung thuong: \n",
      "4. Thoat chuong trinh\n",
      " thung phieu hien tai set()\n",
      "Moi ban lua chon: 1\n",
      "Moi ban nhap so dien thoai: 0869670997\n",
      "------Menu-------\n",
      "vui long chon so\n",
      "1. Them so dien thoai: \n",
      "2. Xoa so dien thoai: \n",
      "3. Quay so dien thoai trung thuong: \n",
      "4. Thoat chuong trinh\n",
      " thung phieu hien tai {'0869670997'}\n",
      "Moi ban lua chon: 1\n",
      "Moi ban nhap so dien thoai: 0978484842\n",
      "------Menu-------\n",
      "vui long chon so\n",
      "1. Them so dien thoai: \n",
      "2. Xoa so dien thoai: \n",
      "3. Quay so dien thoai trung thuong: \n",
      "4. Thoat chuong trinh\n",
      " thung phieu hien tai {'0869670997', '0978484842'}\n",
      "Moi ban lua chon: 1\n",
      "Moi ban nhap so dien thoai: 0384635402\n",
      "------Menu-------\n",
      "vui long chon so\n",
      "1. Them so dien thoai: \n",
      "2. Xoa so dien thoai: \n",
      "3. Quay so dien thoai trung thuong: \n",
      "4. Thoat chuong trinh\n",
      " thung phieu hien tai {'0869670997', '0978484842', '0384635402'}\n",
      "Moi ban lua chon: 3\n",
      "Vi tri trung thuong: 0\n",
      "------Menu-------\n",
      "vui long chon so\n",
      "1. Them so dien thoai: \n",
      "2. Xoa so dien thoai: \n",
      "3. Quay so dien thoai trung thuong: \n",
      "4. Thoat chuong trinh\n",
      " thung phieu hien tai {'0869670997', '0978484842', '0384635402'}\n",
      "Moi ban lua chon: 3\n",
      "Vi tri trung thuong: 1\n",
      "Chuc mung quy khach 0869670997 da trung thuong\n"
     ]
    },
    {
     "ename": "RuntimeError",
     "evalue": "Set changed size during iteration",
     "output_type": "error",
     "traceback": [
      "\u001b[1;31m---------------------------------------------------------------------------\u001b[0m",
      "\u001b[1;31mRuntimeError\u001b[0m                              Traceback (most recent call last)",
      "Cell \u001b[1;32mIn[1], line 29\u001b[0m\n\u001b[0;32m     27\u001b[0m \u001b[38;5;28mprint\u001b[39m(\u001b[38;5;124m\"\u001b[39m\u001b[38;5;124mVi tri trung thuong: \u001b[39m\u001b[38;5;124m\"\u001b[39m \u001b[38;5;241m+\u001b[39m\u001b[38;5;28mstr\u001b[39m(index))\n\u001b[0;32m     28\u001b[0m i \u001b[38;5;241m=\u001b[39m \u001b[38;5;241m0\u001b[39m\n\u001b[1;32m---> 29\u001b[0m \u001b[38;5;28;01mfor\u001b[39;00m x \u001b[38;5;129;01min\u001b[39;00m thungPhieu:\n\u001b[0;32m     30\u001b[0m     \u001b[38;5;28;01mif\u001b[39;00m(i\u001b[38;5;241m==\u001b[39mindex):\n\u001b[0;32m     31\u001b[0m         \u001b[38;5;28;01mbreak\u001b[39;00m\n",
      "\u001b[1;31mRuntimeError\u001b[0m: Set changed size during iteration"
     ]
    }
   ],
   "source": [
    "#viet chuong trinh radom\n",
    "#import\n",
    "import random\n",
    "#khoi tao chuong trinh\n",
    "thungPhieu = set()\n",
    "while(True):\n",
    "    print(\"------Menu-------\")\n",
    "    print(\"vui long chon so\")\n",
    "    print(\"1. Them so dien thoai: \")\n",
    "    print(\"2. Xoa so dien thoai: \")\n",
    "    print(\"3. Quay so dien thoai trung thuong: \")\n",
    "    print(\"4. Thoat chuong trinh\")\n",
    "    print(\" thung phieu hien tai\", thungPhieu)\n",
    "    \n",
    "    #dieu kien\n",
    "    luaChon = int(input(\"Moi ban lua chon: \"))\n",
    "    if(luaChon==1):\n",
    "        soDienthoai= input(\"Moi ban nhap so dien thoai: \")\n",
    "        thungPhieu.add(soDienthoai)\n",
    "    elif(luaChon==2):\n",
    "        soDienthoai = input(\"Moi ban nhap so dien thoai can xoa: \")\n",
    "        thungPhieu.discard(soDienthoai)\n",
    "        \n",
    "        \n",
    "    elif(luaChon==3):\n",
    "        index = random.randint(0, len(thungPhieu)-1)\n",
    "        print(\"Vi tri trung thuong: \" +str(index))\n",
    "        i = 0\n",
    "        for x in thungPhieu:\n",
    "            if(i==index):\n",
    "                break\n",
    "            i = i+1\n",
    "            thungPhieu.discard(x)\n",
    "            print(\"Chuc mung quy khach \" + x + \" da trung thuong\")\n",
    "    else:\n",
    "        break\n",
    "        \n",
    "  "
   ]
  },
  {
   "cell_type": "code",
   "execution_count": null,
   "id": "10218a93",
   "metadata": {},
   "outputs": [],
   "source": []
  },
  {
   "cell_type": "code",
   "execution_count": null,
   "id": "024e1eee",
   "metadata": {},
   "outputs": [],
   "source": []
  }
 ],
 "metadata": {
  "kernelspec": {
   "display_name": "Python 3 (ipykernel)",
   "language": "python",
   "name": "python3"
  },
  "language_info": {
   "codemirror_mode": {
    "name": "ipython",
    "version": 3
   },
   "file_extension": ".py",
   "mimetype": "text/x-python",
   "name": "python",
   "nbconvert_exporter": "python",
   "pygments_lexer": "ipython3",
   "version": "3.11.5"
  }
 },
 "nbformat": 4,
 "nbformat_minor": 5
}
