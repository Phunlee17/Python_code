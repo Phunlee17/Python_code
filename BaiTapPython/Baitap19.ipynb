{
 "cells": [
  {
   "cell_type": "code",
   "execution_count": 10,
   "id": "9cad8ec5",
   "metadata": {
    "scrolled": true
   },
   "outputs": [
    {
     "name": "stdout",
     "output_type": "stream",
     "text": [
      "2 x 1 = 2\n",
      "2 x 2 = 4\n",
      "2 x 3 = 6\n",
      "2 x 4 = 8\n",
      "2 x 5 = 10\n",
      "2 x 6 = 12\n",
      "2 x 7 = 14\n",
      "2 x 8 = 16\n",
      "2 x 9 = 18\n",
      "2 x 10 = 20\n"
     ]
    }
   ],
   "source": [
    "#bang cuu chuong\n",
    "for i in range(1, 11):\n",
    "    print(\"2 x {0} = {1}\".format(i, i*2))"
   ]
  },
  {
   "cell_type": "code",
   "execution_count": 13,
   "id": "7d70bf20",
   "metadata": {},
   "outputs": [
    {
     "name": "stdout",
     "output_type": "stream",
     "text": [
      "Bang cuu chuong  1\n",
      "1 x 1 = 1\n",
      "1 x 2 = 2\n",
      "1 x 3 = 3\n",
      "1 x 4 = 4\n",
      "1 x 5 = 5\n",
      "1 x 6 = 6\n",
      "1 x 7 = 7\n",
      "1 x 8 = 8\n",
      "1 x 9 = 9\n",
      "1 x 10 = 10\n",
      "Bang cuu chuong  2\n",
      "2 x 1 = 2\n",
      "2 x 2 = 4\n",
      "2 x 3 = 6\n",
      "2 x 4 = 8\n",
      "2 x 5 = 10\n",
      "2 x 6 = 12\n",
      "2 x 7 = 14\n",
      "2 x 8 = 16\n",
      "2 x 9 = 18\n",
      "2 x 10 = 20\n",
      "Bang cuu chuong  3\n",
      "3 x 1 = 3\n",
      "3 x 2 = 6\n",
      "3 x 3 = 9\n",
      "3 x 4 = 12\n",
      "3 x 5 = 15\n",
      "3 x 6 = 18\n",
      "3 x 7 = 21\n",
      "3 x 8 = 24\n",
      "3 x 9 = 27\n",
      "3 x 10 = 30\n",
      "Bang cuu chuong  4\n",
      "4 x 1 = 4\n",
      "4 x 2 = 8\n",
      "4 x 3 = 12\n",
      "4 x 4 = 16\n",
      "4 x 5 = 20\n",
      "4 x 6 = 24\n",
      "4 x 7 = 28\n",
      "4 x 8 = 32\n",
      "4 x 9 = 36\n",
      "4 x 10 = 40\n",
      "Bang cuu chuong  5\n",
      "5 x 1 = 5\n",
      "5 x 2 = 10\n",
      "5 x 3 = 15\n",
      "5 x 4 = 20\n",
      "5 x 5 = 25\n",
      "5 x 6 = 30\n",
      "5 x 7 = 35\n",
      "5 x 8 = 40\n",
      "5 x 9 = 45\n",
      "5 x 10 = 50\n",
      "Bang cuu chuong  6\n",
      "6 x 1 = 6\n",
      "6 x 2 = 12\n",
      "6 x 3 = 18\n",
      "6 x 4 = 24\n",
      "6 x 5 = 30\n",
      "6 x 6 = 36\n",
      "6 x 7 = 42\n",
      "6 x 8 = 48\n",
      "6 x 9 = 54\n",
      "6 x 10 = 60\n",
      "Bang cuu chuong  7\n",
      "7 x 1 = 7\n",
      "7 x 2 = 14\n",
      "7 x 3 = 21\n",
      "7 x 4 = 28\n",
      "7 x 5 = 35\n",
      "7 x 6 = 42\n",
      "7 x 7 = 49\n",
      "7 x 8 = 56\n",
      "7 x 9 = 63\n",
      "7 x 10 = 70\n",
      "Bang cuu chuong  8\n",
      "8 x 1 = 8\n",
      "8 x 2 = 16\n",
      "8 x 3 = 24\n",
      "8 x 4 = 32\n",
      "8 x 5 = 40\n",
      "8 x 6 = 48\n",
      "8 x 7 = 56\n",
      "8 x 8 = 64\n",
      "8 x 9 = 72\n",
      "8 x 10 = 80\n",
      "Bang cuu chuong  9\n",
      "9 x 1 = 9\n",
      "9 x 2 = 18\n",
      "9 x 3 = 27\n",
      "9 x 4 = 36\n",
      "9 x 5 = 45\n",
      "9 x 6 = 54\n",
      "9 x 7 = 63\n",
      "9 x 8 = 72\n",
      "9 x 9 = 81\n",
      "9 x 10 = 90\n"
     ]
    }
   ],
   "source": [
    "for j in range(1, 10):\n",
    "    print(\"Bang cuu chuong \", j)\n",
    "    for i in range(1, 11):\n",
    "        print(\"{0} x {1} = {2}\".format(j, i, j*i ))"
   ]
  },
  {
   "cell_type": "code",
   "execution_count": 14,
   "id": "1a8e7e71",
   "metadata": {},
   "outputs": [
    {
     "name": "stdout",
     "output_type": "stream",
     "text": [
      "\n",
      "Phuong Le yeu Hand In Hand\n",
      "Rat nhieu\n",
      "Cuc ki nhieu\n",
      "Nhung sau nay se khong dong hanh cung Hand in Hand nua\n",
      "\n"
     ]
    }
   ],
   "source": [
    "handinhand = '''\n",
    "Phuong Le yeu Hand In Hand\n",
    "Rat nhieu\n",
    "Cuc ki nhieu\n",
    "Nhung sau nay se khong dong hanh cung Hand in Hand nua\n",
    "'''\n",
    "print(handinhand)"
   ]
  },
  {
   "cell_type": "code",
   "execution_count": 17,
   "id": "683f1419",
   "metadata": {},
   "outputs": [
    {
     "name": "stdout",
     "output_type": "stream",
     "text": [
      "Phuong Le yeu Hand In Hand\n",
      "Phuong Le yeu Hand In Hand\n",
      "Phuong Le yeu Hand In Hand\n",
      "Phuong Le yeu Hand In Hand\n",
      "Phuong Le yeu Hand In Hand\n",
      "Phuong Le yeu Hand In Hand\n",
      "Phuong Le yeu Hand In Hand\n",
      "Phuong Le yeu Hand In Hand\n",
      "Phuong Le yeu Hand In Hand\n",
      "Phuong Le yeu Hand In Hand\n",
      "\n"
     ]
    }
   ],
   "source": [
    "nhac_nho = \"Phuong Le yeu Hand In Hand\\n\"\n",
    "nhac_nhe = nhac_nho*10\n",
    "print(nhac_nhe)"
   ]
  },
  {
   "cell_type": "code",
   "execution_count": 19,
   "id": "86e9498e",
   "metadata": {},
   "outputs": [
    {
     "name": "stdout",
     "output_type": "stream",
     "text": [
      "Gia tri chuoi 2 co trong chuoi 1\n",
      "Gia tri cua chuoi 3 khong co trong chuoi 1\n"
     ]
    }
   ],
   "source": [
    "#Kiem tra chuoi co thuoc chuoi khac\n",
    "\n",
    "#Nhap gia tri chuoi 123\n",
    "chuoi_1= \"Hand In Hand Viet Han\"\n",
    "chuoi_2 = \"Hand In Hand\"\n",
    "chuoi_3 = \"Phuong Le\"\n",
    "#so sanh chuoi\n",
    "if chuoi_2 in chuoi_1:\n",
    "    print(\"Gia tri chuoi 2 co trong chuoi 1\")\n",
    "else: \n",
    "    print(\"Gia tri chuoi 2 khong co trong chuoi 1\")\n",
    "if chuoi_3 in chuoi_1:\n",
    "    print(\"Gia tri cua chuoi 3 co trong chuoi 1\")\n",
    "else: \n",
    "    print(\"Gia tri cua chuoi 3 khong co trong chuoi 1\")"
   ]
  },
  {
   "cell_type": "code",
   "execution_count": 20,
   "id": "64b7d6d1",
   "metadata": {},
   "outputs": [
    {
     "name": "stdout",
     "output_type": "stream",
     "text": [
      "Hand in hand 3t\n"
     ]
    }
   ],
   "source": [
    "#Viet hoa chu cai dau cua chuoi\n",
    "s = \"hand in hand 3T\"\n",
    "s = str.capitalize(s)\n",
    "print(s)"
   ]
  },
  {
   "cell_type": "code",
   "execution_count": 21,
   "id": "6f8ff0ff",
   "metadata": {},
   "outputs": [
    {
     "name": "stdout",
     "output_type": "stream",
     "text": [
      "HAND IN HAND 3T\n"
     ]
    }
   ],
   "source": [
    "#Viet hoa toan bo chuoi\n",
    "s = s.upper()\n",
    "print(s)"
   ]
  },
  {
   "cell_type": "code",
   "execution_count": 25,
   "id": "de623004",
   "metadata": {},
   "outputs": [
    {
     "name": "stdout",
     "output_type": "stream",
     "text": [
      "phuong le\n"
     ]
    }
   ],
   "source": [
    "#viet thuong toan bo chuoi\n",
    "a = \"PHUONG LE\"\n",
    "a = a.lower()\n",
    "print(a)"
   ]
  },
  {
   "cell_type": "code",
   "execution_count": 27,
   "id": "3647c6ee",
   "metadata": {},
   "outputs": [
    {
     "name": "stdout",
     "output_type": "stream",
     "text": [
      "10\n",
      "2\n"
     ]
    }
   ],
   "source": [
    "#dem so luong chuoi con\n",
    "s = \"Lap trinh Python kho vai o, nhung phai hoc Python thoi\"\n",
    "print(s.find(\"Python\")) #tra ve -1 neu hong tim thay\n",
    "\n",
    "print(s.count(\"Python\"))\n"
   ]
  },
  {
   "cell_type": "code",
   "execution_count": 29,
   "id": "f99237c4",
   "metadata": {},
   "outputs": [
    {
     "name": "stdout",
     "output_type": "stream",
     "text": [
      "Lap trinh Java kho vai o, nhung phai hoc Java thoi\n"
     ]
    }
   ],
   "source": [
    "#thay the \n",
    "s = \"Lap trinh Python kho vai o, nhung phai hoc Python thoi\"\n",
    "s = s.replace(\"Python\", \"Java\")\n",
    "print(s)"
   ]
  },
  {
   "cell_type": "code",
   "execution_count": 30,
   "id": "e6bb6fbc",
   "metadata": {},
   "outputs": [
    {
     "name": "stdout",
     "output_type": "stream",
     "text": [
      "['Lap', 'trinh', 'Python', 'kho', 'vai', 'o,', 'nhung', 'phai', 'hoc', 'Python', 'thoi']\n"
     ]
    }
   ],
   "source": [
    "#cat chuoi thanh list\n",
    "\n",
    "s = \"Lap trinh Python kho vai o, nhung phai hoc Python thoi\"\n",
    "list1 = s.split(\" \")\n",
    "print(list1)"
   ]
  },
  {
   "cell_type": "code",
   "execution_count": 31,
   "id": "59ca1244",
   "metadata": {},
   "outputs": [
    {
     "name": "stdout",
     "output_type": "stream",
     "text": [
      "1 + 2 = 3\n"
     ]
    }
   ],
   "source": [
    "#format trong str cua Python\n",
    "print(\"{0} + {1} = {2}\".format(1, 2, 1+2))"
   ]
  },
  {
   "cell_type": "code",
   "execution_count": 32,
   "id": "07cc4958",
   "metadata": {},
   "outputs": [
    {
     "name": "stdout",
     "output_type": "stream",
     "text": [
      "Lap trinh \n",
      "Lap trinh Python kho vai o, nhung phai hoc Python thoi\n"
     ]
    }
   ],
   "source": [
    "#lay chuoi con\n",
    "print(s[0:10])\n",
    "print(s)"
   ]
  },
  {
   "cell_type": "code",
   "execution_count": null,
   "id": "86564ffc",
   "metadata": {},
   "outputs": [],
   "source": []
  }
 ],
 "metadata": {
  "kernelspec": {
   "display_name": "Python 3 (ipykernel)",
   "language": "python",
   "name": "python3"
  },
  "language_info": {
   "codemirror_mode": {
    "name": "ipython",
    "version": 3
   },
   "file_extension": ".py",
   "mimetype": "text/x-python",
   "name": "python",
   "nbconvert_exporter": "python",
   "pygments_lexer": "ipython3",
   "version": "3.11.5"
  }
 },
 "nbformat": 4,
 "nbformat_minor": 5
}
