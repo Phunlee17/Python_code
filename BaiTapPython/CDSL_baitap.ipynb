{
 "cells": [
  {
   "cell_type": "code",
   "execution_count": 14,
   "id": "6d1a281c",
   "metadata": {},
   "outputs": [
    {
     "name": "stdout",
     "output_type": "stream",
     "text": [
      "<sqlite3.Connection object at 0x0000028840336D40>\n"
     ]
    }
   ],
   "source": [
    "#import thu vien\n",
    "import sqlite3\n",
    "\n",
    "#ket noi csdl bang duoc dan\n",
    "path = \"D:\\PYTHON\\DATA\\demo.db\" \n",
    "connection = sqlite3.connect(path)\n",
    "print(connection)\n",
    "\n",
    "#ngan ket noi\n",
    "#connection.close()"
   ]
  },
  {
   "cell_type": "code",
   "execution_count": 15,
   "id": "bf19ecc2",
   "metadata": {},
   "outputs": [
    {
     "name": "stdout",
     "output_type": "stream",
     "text": [
      "[('2', 'Bao My', 12.0), ('1', 'Phuong Le', 9.0), ('3', 'HSon', 10.0), ('4', 'Anh Quoc', 8.0)]\n"
     ]
    }
   ],
   "source": [
    "#tao doi tuong\n",
    "cursor = connection.cursor()\n",
    "sql = \"select * from sinhVien\"\n",
    "cursor.execute(sql)\n",
    "result = cursor.fetchall()\n",
    "print(result)\n",
    "cursor.close()"
   ]
  },
  {
   "cell_type": "code",
   "execution_count": 16,
   "id": "bbfdf125",
   "metadata": {},
   "outputs": [
    {
     "name": "stdout",
     "output_type": "stream",
     "text": [
      "[('2', 'Bao My', 12.0), ('1', 'Phuong Le', 9.0), ('3', 'HSon', 10.0)]\n"
     ]
    }
   ],
   "source": [
    "#tao doi tuong\n",
    "cursor = connection.cursor()\n",
    "sql = \"select * from sinhVien where sinhVien.diem>=9\"\n",
    "cursor.execute(sql)\n",
    "result = cursor.fetchall()\n",
    "print(result)\n",
    "cursor.close()"
   ]
  },
  {
   "cell_type": "code",
   "execution_count": 23,
   "id": "5108a86f",
   "metadata": {},
   "outputs": [
    {
     "ename": "OperationalError",
     "evalue": "database is locked",
     "output_type": "error",
     "traceback": [
      "\u001b[1;31m---------------------------------------------------------------------------\u001b[0m",
      "\u001b[1;31mOperationalError\u001b[0m                          Traceback (most recent call last)",
      "Cell \u001b[1;32mIn[23], line 3\u001b[0m\n\u001b[0;32m      1\u001b[0m cursor \u001b[38;5;241m=\u001b[39m connection\u001b[38;5;241m.\u001b[39mcursor()\n\u001b[0;32m      2\u001b[0m \u001b[38;5;66;03m#sql = \"INSERT INTO sinhVien(maSV, hovaten, diem) VALUES ('7', 'Thanh Tu', '6')\"\u001b[39;00m\n\u001b[1;32m----> 3\u001b[0m cursor\u001b[38;5;241m.\u001b[39mexecute(\u001b[38;5;124m\"\u001b[39m\u001b[38;5;124mINSERT INTO sinhVien(maSV, hovaten, diem) VALUES (\u001b[39m\u001b[38;5;124m'\u001b[39m\u001b[38;5;124m7\u001b[39m\u001b[38;5;124m'\u001b[39m\u001b[38;5;124m, \u001b[39m\u001b[38;5;124m'\u001b[39m\u001b[38;5;124mThanh Tu\u001b[39m\u001b[38;5;124m'\u001b[39m\u001b[38;5;124m, \u001b[39m\u001b[38;5;124m'\u001b[39m\u001b[38;5;124m6\u001b[39m\u001b[38;5;124m'\u001b[39m\u001b[38;5;124m)\u001b[39m\u001b[38;5;124m\"\u001b[39m)\n\u001b[0;32m      4\u001b[0m connection\u001b[38;5;241m.\u001b[39mcommit()\n\u001b[0;32m      5\u001b[0m cursor\u001b[38;5;241m.\u001b[39mclose()\n",
      "\u001b[1;31mOperationalError\u001b[0m: database is locked"
     ]
    }
   ],
   "source": [
    "cursor = connection.cursor()\n",
    "sql = \"INSERT INTO sinhVien(maSV, hovaten, diem) VALUES ('7', 'Thanh Tu', '6')\"\n",
    "cursor.execute(sql)\n",
    "connection.commit()"
   ]
  },
  {
   "cell_type": "code",
   "execution_count": null,
   "id": "e1337a16",
   "metadata": {},
   "outputs": [],
   "source": []
  }
 ],
 "metadata": {
  "kernelspec": {
   "display_name": "Python 3 (ipykernel)",
   "language": "python",
   "name": "python3"
  },
  "language_info": {
   "codemirror_mode": {
    "name": "ipython",
    "version": 3
   },
   "file_extension": ".py",
   "mimetype": "text/x-python",
   "name": "python",
   "nbconvert_exporter": "python",
   "pygments_lexer": "ipython3",
   "version": "3.11.5"
  }
 },
 "nbformat": 4,
 "nbformat_minor": 5
}
