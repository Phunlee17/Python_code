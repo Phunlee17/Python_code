{
 "cells": [
  {
   "cell_type": "code",
   "execution_count": 2,
   "id": "a8901ae4",
   "metadata": {
    "scrolled": true
   },
   "outputs": [
    {
     "name": "stdout",
     "output_type": "stream",
     "text": [
      "Enter n: -5\n",
      "Enter n: 9\n",
      "Tong =  45\n"
     ]
    }
   ],
   "source": [
    "#yeu cau nguoi dung nhap so n>0. Neu nhap sai, yeu cau nhap lai\n",
    "\n",
    "n =-1\n",
    "while (n<=0):\n",
    "    n = int(input(\"Enter n: \"))\n",
    "\n",
    "i=0\n",
    "tong = 0\n",
    "while(i<=n):\n",
    "    tong+=i \n",
    "    i+=1\n",
    "print(\"Tong = \", tong)"
   ]
  },
  {
   "cell_type": "code",
   "execution_count": 3,
   "id": "cc4adc21",
   "metadata": {},
   "outputs": [
    {
     "name": "stdout",
     "output_type": "stream",
     "text": [
      "0  Ben trong vong lap \n",
      "1  Ben trong vong lap \n",
      "2  Ben trong vong lap \n",
      "3  Ben trong vong lap \n",
      "4  Ben trong vong lap \n",
      "5  Ben trong vong lap \n",
      "6  Ben trong vong lap \n",
      "7  Ben trong vong lap \n",
      "8  Ben trong vong lap \n",
      "9  Ben trong vong lap \n",
      "10  Ben trong vong lap \n",
      "11  Ben ngoai vong lap \n"
     ]
    }
   ],
   "source": [
    "j =0\n",
    "while(j<=10):\n",
    "    print(j, \" Ben trong vong lap \")\n",
    "    j+=1\n",
    "else:\n",
    "    print(j, \" Ben ngoai vong lap \")"
   ]
  },
  {
   "cell_type": "code",
   "execution_count": 6,
   "id": "7e97ae5f",
   "metadata": {},
   "outputs": [
    {
     "name": "stdout",
     "output_type": "stream",
     "text": [
      "0  Ben trong vong lap \n",
      "1  Ben trong vong lap \n",
      "2  Ben trong vong lap \n",
      "3  Ben trong vong lap \n",
      "4  Ben trong vong lap \n"
     ]
    }
   ],
   "source": [
    "j =0\n",
    "while(j<=10):\n",
    "    print(j, \" Ben trong vong lap \")\n",
    "    j+=1\n",
    "    if(j>=5): break\n",
    "else:\n",
    "    print(j, \" Ben ngoai vong lap \")"
   ]
  },
  {
   "cell_type": "code",
   "execution_count": null,
   "id": "903f1ef5",
   "metadata": {},
   "outputs": [],
   "source": []
  }
 ],
 "metadata": {
  "kernelspec": {
   "display_name": "Python 3 (ipykernel)",
   "language": "python",
   "name": "python3"
  },
  "language_info": {
   "codemirror_mode": {
    "name": "ipython",
    "version": 3
   },
   "file_extension": ".py",
   "mimetype": "text/x-python",
   "name": "python",
   "nbconvert_exporter": "python",
   "pygments_lexer": "ipython3",
   "version": "3.11.5"
  }
 },
 "nbformat": 4,
 "nbformat_minor": 5
}
