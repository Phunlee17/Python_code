{
 "cells": [
  {
   "cell_type": "code",
   "execution_count": 4,
   "id": "fc7bc974",
   "metadata": {},
   "outputs": [],
   "source": [
    "def xinChao(ten):\n",
    "    print(\"Hello, my name is: \" + ten)"
   ]
  },
  {
   "cell_type": "code",
   "execution_count": 5,
   "id": "a06867cc",
   "metadata": {
    "scrolled": true
   },
   "outputs": [
    {
     "name": "stdout",
     "output_type": "stream",
     "text": [
      "Hello, my name is: Phuong\n"
     ]
    }
   ],
   "source": [
    "xinChao(\"Phuong\")"
   ]
  },
  {
   "cell_type": "code",
   "execution_count": 1,
   "id": "0f0c1327",
   "metadata": {},
   "outputs": [],
   "source": [
    "def hoTen(ho, tenLot, ten):\n",
    "    print(\"Hello, my name is: \" + ho + tenLot + ten)"
   ]
  },
  {
   "cell_type": "code",
   "execution_count": 4,
   "id": "559a270d",
   "metadata": {},
   "outputs": [
    {
     "name": "stdout",
     "output_type": "stream",
     "text": [
      "Hello, my name is:  Le  Mai  Phuong \n"
     ]
    }
   ],
   "source": [
    "hoTen(\" Le \", \" Mai \", \" Phuong \")"
   ]
  },
  {
   "cell_type": "code",
   "execution_count": 5,
   "id": "690cd278",
   "metadata": {},
   "outputs": [],
   "source": [
    "#khong xac dinh doi so, chung ta su dung dau *\n",
    "\n",
    "def thoiKhoabieu(*monHoc):\n",
    "    print(\"Mon 1: \" + monHoc[0])\n",
    "    print(\"Mon 2: \" + monHoc[1])"
   ]
  },
  {
   "cell_type": "code",
   "execution_count": 6,
   "id": "8888eaa4",
   "metadata": {},
   "outputs": [
    {
     "name": "stdout",
     "output_type": "stream",
     "text": [
      "Mon 1: Toan\n",
      "Mon 2: Su\n"
     ]
    }
   ],
   "source": [
    "thoiKhoabieu(\"Toan\", \"Su\", \"Van\", \" Anh \")"
   ]
  },
  {
   "cell_type": "code",
   "execution_count": 5,
   "id": "8bd266dc",
   "metadata": {},
   "outputs": [],
   "source": [
    "def tinhTong(*giaTri):\n",
    "    sum = 0\n",
    "    for x in giaTri:\n",
    "        sum = sum + x\n",
    "    print(sum)"
   ]
  },
  {
   "cell_type": "code",
   "execution_count": 6,
   "id": "09466a59",
   "metadata": {},
   "outputs": [
    {
     "name": "stdout",
     "output_type": "stream",
     "text": [
      "16\n"
     ]
    }
   ],
   "source": [
    "tinhTong(1, 3, 5, 7)"
   ]
  },
  {
   "cell_type": "code",
   "execution_count": 7,
   "id": "a9dd8423",
   "metadata": {},
   "outputs": [],
   "source": [
    "#truyen nhieu doi so thong qua ten, su dun **\n",
    "def xinChao(**ten):\n",
    "    print(\"Hi. my name iS: \" + ten[\"ho\"])"
   ]
  },
  {
   "cell_type": "code",
   "execution_count": 8,
   "id": "93634e4d",
   "metadata": {},
   "outputs": [
    {
     "name": "stdout",
     "output_type": "stream",
     "text": [
      "Hi. my name iS: Le\n"
     ]
    }
   ],
   "source": [
    "xinChao(ten = \"Phuong\", ho = \"Le\")"
   ]
  },
  {
   "cell_type": "code",
   "execution_count": 18,
   "id": "82935ba8",
   "metadata": {},
   "outputs": [],
   "source": [
    "#tra ve ham return\n",
    "def tinhTich(*giaTri):\n",
    "    tich = 1\n",
    "    for x in giaTri:\n",
    "        tich = tich * x\n",
    "    return tich"
   ]
  },
  {
   "cell_type": "code",
   "execution_count": 19,
   "id": "e54526a8",
   "metadata": {},
   "outputs": [
    {
     "name": "stdout",
     "output_type": "stream",
     "text": [
      "81\n"
     ]
    }
   ],
   "source": [
    "tich1 = tinhTich(3, 6)\n",
    "tich2 = tinhTich(7, 9)\n",
    "tong = tich1 + tich2\n",
    "print(tong)"
   ]
  },
  {
   "cell_type": "code",
   "execution_count": 23,
   "id": "e2760577",
   "metadata": {},
   "outputs": [],
   "source": [
    "#Baitap tin USCLN cua 2 so a, b\n",
    "#xay dung ham: gcd(a, b) => tra ve USCLN\n",
    "def gcd(a, b):\n",
    "    while(a!=b):\n",
    "        if(a>b):\n",
    "            a = a-b\n",
    "        else:\n",
    "            b=b-a\n",
    "    return a\n",
    "    "
   ]
  },
  {
   "cell_type": "code",
   "execution_count": 24,
   "id": "556680bc",
   "metadata": {},
   "outputs": [
    {
     "data": {
      "text/plain": [
       "5"
      ]
     },
     "execution_count": 24,
     "metadata": {},
     "output_type": "execute_result"
    }
   ],
   "source": [
    "gcd(55, 100)"
   ]
  },
  {
   "cell_type": "code",
   "execution_count": 29,
   "id": "efb8c6bf",
   "metadata": {},
   "outputs": [
    {
     "name": "stdout",
     "output_type": "stream",
     "text": [
      "Nhap vao so luong phan tu: 4\n",
      "Nhap vao gia tri: 01\n",
      "Nhap vao gia tri: 12\n",
      "Nhap vao gia tri: 23\n",
      "Nhap vao gia tri: 34\n",
      "ket qua cua ban la: 10\n"
     ]
    }
   ],
   "source": [
    "#2 nhap vao 1 day n so tu ban phim, tinh tong\n",
    "#yeucau: xay dung cac ham, ham nhap(list_number), tinhtong(list_number)\n",
    "\n",
    "#khai bao list\n",
    "list_number =[]\n",
    "n = - 1\n",
    "while(True):\n",
    "    try: \n",
    "        n= int(input(\"Nhap vao so luong phan tu: \"))\n",
    "    except:\n",
    "        print(\"Vui long nhap so phan tu\" )\n",
    "    if (n >=1):\n",
    "        break\n",
    "def nhap(n, list_number):\n",
    "    for i in range(n):\n",
    "        list_number.append(int(input(\"Nhap vao gia tri: \" + str(i))))\n",
    "\n",
    "#tinh tong\n",
    "def tinhTong(list_number):\n",
    "    tong = 0\n",
    "    for x in list_number:\n",
    "        tong+=x\n",
    "    return tong\n",
    "              \n",
    "nhap(n , list_number)\n",
    "print(\"ket qua cua ban la: \" + str(tinhTong(list_number)))\n",
    "    \n",
    "    "
   ]
  },
  {
   "cell_type": "code",
   "execution_count": null,
   "id": "b69241c6",
   "metadata": {},
   "outputs": [],
   "source": []
  }
 ],
 "metadata": {
  "kernelspec": {
   "display_name": "Python 3 (ipykernel)",
   "language": "python",
   "name": "python3"
  },
  "language_info": {
   "codemirror_mode": {
    "name": "ipython",
    "version": 3
   },
   "file_extension": ".py",
   "mimetype": "text/x-python",
   "name": "python",
   "nbconvert_exporter": "python",
   "pygments_lexer": "ipython3",
   "version": "3.11.5"
  }
 },
 "nbformat": 4,
 "nbformat_minor": 5
}
