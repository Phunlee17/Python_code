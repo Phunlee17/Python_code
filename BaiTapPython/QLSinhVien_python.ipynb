{
 "cells": [
  {
   "cell_type": "code",
   "execution_count": 13,
   "id": "27971daf",
   "metadata": {},
   "outputs": [
    {
     "name": "stdout",
     "output_type": "stream",
     "text": [
      "<sqlite3.Connection object at 0x000002C647FC6A70>\n"
     ]
    }
   ],
   "source": [
    "#database \n",
    "import sqlite3\n",
    "conn = sqlite3.connect(\"D:\\PYTHON\\DATA\\sinhvien.db\")\n",
    "print(conn)"
   ]
  },
  {
   "cell_type": "code",
   "execution_count": 11,
   "id": "855c0df7",
   "metadata": {},
   "outputs": [],
   "source": [
    "#tao thong tin lop hoc\n",
    "#tao table\n",
    "c = conn.cursor()\n",
    "#xoa tablde da ton tai\n",
    "c.execute(\"DROP TABLE IF EXISTS lop_hoc\")\n",
    "#tao table moi\n",
    "sql = \"\"\"\n",
    "CREATE TABLE lop_hoc(\n",
    "ma_lop varchar(50) not null primary key,\n",
    "ten_lop varchar(50) null default null\n",
    ")\n",
    "\"\"\"\n",
    "c.execute(sql)\n",
    "\n",
    "#insert\n",
    "sql = \"\"\"\n",
    "insert into lop_hoc(ma_lop, ten_lop)\n",
    "values\n",
    "('Python', 'lap trinh python'),\n",
    "('java', 'lap trinh java');\n",
    "\"\"\"\n",
    "c.execute(sql)\n",
    "conn.commit()\n",
    "conn.close()"
   ]
  },
  {
   "cell_type": "code",
   "execution_count": 14,
   "id": "c4456991",
   "metadata": {},
   "outputs": [],
   "source": [
    "#tao thong tin sinh vien\n",
    "#tao table\n",
    "c = conn.cursor()\n",
    "#xoa tablde da ton tai\n",
    "c.execute(\"DROP TABLE IF EXISTS sinh_vien\")\n",
    "#tao table moi\n",
    "sql = \"\"\"\n",
    "CREATE TABLE sinh_vien(\n",
    "ma_sv varchar(50) not null primary key,\n",
    "ten_sv varchar(50) null default null\n",
    ")\n",
    "\"\"\"\n",
    "c.execute(sql)\n",
    "\n",
    "#insert\n",
    "sql = \"\"\"\n",
    "insert into sinh_vien(ma_sv, ten_sv)\n",
    "values\n",
    "('1', 'Le Mai Phuong'),\n",
    "('2', 'Nguyen Bao My');\n",
    "\"\"\"\n",
    "c.execute(sql)\n",
    "conn.commit()"
   ]
  },
  {
   "cell_type": "code",
   "execution_count": null,
   "id": "b2841ff2",
   "metadata": {},
   "outputs": [],
   "source": []
  }
 ],
 "metadata": {
  "kernelspec": {
   "display_name": "Python 3 (ipykernel)",
   "language": "python",
   "name": "python3"
  },
  "language_info": {
   "codemirror_mode": {
    "name": "ipython",
    "version": 3
   },
   "file_extension": ".py",
   "mimetype": "text/x-python",
   "name": "python",
   "nbconvert_exporter": "python",
   "pygments_lexer": "ipython3",
   "version": "3.11.5"
  }
 },
 "nbformat": 4,
 "nbformat_minor": 5
}
