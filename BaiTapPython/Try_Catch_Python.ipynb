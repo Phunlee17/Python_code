{
 "cells": [
  {
   "cell_type": "code",
   "execution_count": 1,
   "id": "295a0c64",
   "metadata": {},
   "outputs": [
    {
     "ename": "IndentationError",
     "evalue": "expected an indented block after 'try' statement on line 1 (798541249.py, line 3)",
     "output_type": "error",
     "traceback": [
      "\u001b[1;36m  Cell \u001b[1;32mIn[1], line 3\u001b[1;36m\u001b[0m\n\u001b[1;33m    except:\u001b[0m\n\u001b[1;37m    ^\u001b[0m\n\u001b[1;31mIndentationError\u001b[0m\u001b[1;31m:\u001b[0m expected an indented block after 'try' statement on line 1\n"
     ]
    }
   ],
   "source": [
    "try:\n",
    "    #Đoan code du doan co loi\n",
    "except:\n",
    "    #hanh dong khi loi xay ra\n",
    "else: \n",
    "    #thuc thi doan nay neu nhu khong co loi\n",
    "finally:\n",
    "    #Cho phep ban thuc thi ma, bat ke ket qua cua cac khoi co loi h"
   ]
  },
  {
   "cell_type": "code",
   "execution_count": 3,
   "id": "7f466dfb",
   "metadata": {},
   "outputs": [
    {
     "name": "stdout",
     "output_type": "stream",
     "text": [
      "Nhap vao so nguyen a: so nam\n"
     ]
    },
    {
     "ename": "ValueError",
     "evalue": "invalid literal for int() with base 10: 'so nam'",
     "output_type": "error",
     "traceback": [
      "\u001b[1;31m---------------------------------------------------------------------------\u001b[0m",
      "\u001b[1;31mValueError\u001b[0m                                Traceback (most recent call last)",
      "Cell \u001b[1;32mIn[3], line 1\u001b[0m\n\u001b[1;32m----> 1\u001b[0m a \u001b[38;5;241m=\u001b[39m \u001b[38;5;28mint\u001b[39m(\u001b[38;5;28minput\u001b[39m(\u001b[38;5;124m\"\u001b[39m\u001b[38;5;124mNhap vao so nguyen a: \u001b[39m\u001b[38;5;124m\"\u001b[39m))\n\u001b[0;32m      2\u001b[0m \u001b[38;5;28mprint\u001b[39m(\u001b[38;5;28mstr\u001b[39m(a) \u001b[38;5;241m+\u001b[39m \u001b[38;5;124m\"\u001b[39m\u001b[38;5;124m + 5 =\u001b[39m\u001b[38;5;124m\"\u001b[39m \u001b[38;5;241m+\u001b[39m\u001b[38;5;28mstr\u001b[39m(a\u001b[38;5;241m+\u001b[39m\u001b[38;5;241m5\u001b[39m))\n",
      "\u001b[1;31mValueError\u001b[0m: invalid literal for int() with base 10: 'so nam'"
     ]
    }
   ],
   "source": [
    "a = int(input(\"Nhap vao so nguyen a: \"))\n",
    "print(str(a) + \" + 5 =\" +str(a+5))"
   ]
  },
  {
   "cell_type": "code",
   "execution_count": 5,
   "id": "8c367010",
   "metadata": {},
   "outputs": [
    {
     "name": "stdout",
     "output_type": "stream",
     "text": [
      "Nhap vao so nguyen a: so 5\n",
      "Nhap du lieu khong chinh xac\n"
     ]
    }
   ],
   "source": [
    "try: \n",
    "    a = int(input(\"Nhap vao so nguyen a: \"))\n",
    "    print(str(a) + \" + 5 =\" +str(a+5))\n",
    "except:\n",
    "    print(\"Nhap du lieu khong chinh xac\")"
   ]
  },
  {
   "cell_type": "code",
   "execution_count": 6,
   "id": "fa01cd39",
   "metadata": {},
   "outputs": [
    {
     "name": "stdout",
     "output_type": "stream",
     "text": [
      "Nhap vao so nguyen a: so 5\n",
      "invalid literal for int() with base 10: 'so 5'\n"
     ]
    }
   ],
   "source": [
    "try: \n",
    "    a = int(input(\"Nhap vao so nguyen a: \"))\n",
    "    print(str(a) + \" + 5 =\" +str(a+5))\n",
    "except Exception as e:\n",
    "    print(e)"
   ]
  },
  {
   "cell_type": "code",
   "execution_count": null,
   "id": "3caa91f3",
   "metadata": {},
   "outputs": [],
   "source": [
    "try: \n",
    "    a = int(input(\"Nhap vao so nguyen a: \"))\n",
    "    print(str(a) + \" + 5 =\" +str(a+5))\n",
    "except Exception as e:\n",
    "    print(e)\n",
    "else:\n",
    "    print(\"Khong co loi xay ra!\")\n",
    "finally:\n",
    "    print(\"Ket thuc chungf\")"
   ]
  }
 ],
 "metadata": {
  "kernelspec": {
   "display_name": "Python 3 (ipykernel)",
   "language": "python",
   "name": "python3"
  },
  "language_info": {
   "codemirror_mode": {
    "name": "ipython",
    "version": 3
   },
   "file_extension": ".py",
   "mimetype": "text/x-python",
   "name": "python",
   "nbconvert_exporter": "python",
   "pygments_lexer": "ipython3",
   "version": "3.11.5"
  }
 },
 "nbformat": 4,
 "nbformat_minor": 5
}
