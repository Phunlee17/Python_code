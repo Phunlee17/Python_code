{
 "cells": [
  {
   "cell_type": "code",
   "execution_count": 1,
   "id": "f236b531",
   "metadata": {},
   "outputs": [
    {
     "name": "stdout",
     "output_type": "stream",
     "text": [
      "[]\n",
      "[]\n"
     ]
    }
   ],
   "source": [
    "#Tao list \n",
    "emptyList = []\n",
    "#tao ra 1 doi tuong list\n",
    "emptyList2 = list()\n",
    "print(emptyList)\n",
    "print(emptyList2)"
   ]
  },
  {
   "cell_type": "code",
   "execution_count": 2,
   "id": "7065ef0c",
   "metadata": {},
   "outputs": [
    {
     "name": "stdout",
     "output_type": "stream",
     "text": [
      "['red', 'yellow']\n"
     ]
    }
   ],
   "source": [
    "#tao list co du lieu\n",
    "colors =[\"red\", \"yellow\"]\n",
    "print(colors)"
   ]
  },
  {
   "cell_type": "code",
   "execution_count": 5,
   "id": "8313dca3",
   "metadata": {},
   "outputs": [
    {
     "name": "stdout",
     "output_type": "stream",
     "text": [
      "My\n"
     ]
    }
   ],
   "source": [
    "#list co thu tu, vi tri cac phan tu duoc danh dau tu 0, tu trai qua phai\n",
    "studentList = [\"An\", \"Binh\", \"My\", \"Oanh\"]\n",
    "print(studentList[2])"
   ]
  },
  {
   "cell_type": "code",
   "execution_count": 6,
   "id": "4a5f0856",
   "metadata": {},
   "outputs": [
    {
     "name": "stdout",
     "output_type": "stream",
     "text": [
      "['An', 'Binh', 'My', 'Oanh']\n",
      "['An', 'Binh', 'My', 'Oanh']\n"
     ]
    }
   ],
   "source": [
    "print(studentList)\n",
    "print(studentList[:])"
   ]
  },
  {
   "cell_type": "code",
   "execution_count": 7,
   "id": "d1dc528b",
   "metadata": {},
   "outputs": [
    {
     "name": "stdout",
     "output_type": "stream",
     "text": [
      "['Binh']\n"
     ]
    }
   ],
   "source": [
    "print(studentList[1:2])"
   ]
  },
  {
   "cell_type": "code",
   "execution_count": 10,
   "id": "6fd6dd6e",
   "metadata": {},
   "outputs": [
    {
     "name": "stdout",
     "output_type": "stream",
     "text": [
      "['An', 'Binh', 'My', 'Oanh', 'Phuong', 'Phuong']\n"
     ]
    }
   ],
   "source": [
    "#them phan tu vao list\n",
    "studentList.append(\"Phuong\")\n",
    "print(studentList)"
   ]
  },
  {
   "cell_type": "code",
   "execution_count": 36,
   "id": "bb51ce40",
   "metadata": {},
   "outputs": [
    {
     "name": "stdout",
     "output_type": "stream",
     "text": [
      "['Phuong', 'Thanh', 'Linh', 'Linh', 'Linh', 'Thanh', 'Thanh', 'Thanh', 'Thanh']\n",
      "['Phuong', 'Thanh', 'Linh', 'Linh', 'Linh', 'Thanh', 'Thanh', 'Thanh', 'Thanh', 'Thanh']\n"
     ]
    }
   ],
   "source": [
    "#chen phan tu vao list\n",
    "studentList.insert(2, \"Linh\")\n",
    "print(studentList)\n",
    "studentList[len(studentList):] = [\"Thanh\"]\n",
    "print(studentList)"
   ]
  },
  {
   "cell_type": "code",
   "execution_count": 35,
   "id": "eeef53fb",
   "metadata": {},
   "outputs": [
    {
     "name": "stdout",
     "output_type": "stream",
     "text": [
      "8\n"
     ]
    }
   ],
   "source": [
    "#so luong phan tu co trong list=>len\n",
    "print(len(studentList))\n"
   ]
  },
  {
   "cell_type": "code",
   "execution_count": 25,
   "id": "9f29bf9b",
   "metadata": {},
   "outputs": [
    {
     "name": "stdout",
     "output_type": "stream",
     "text": [
      "count of Phuong:  2\n",
      "count of Thanh:  3\n",
      "count of My:  1\n"
     ]
    }
   ],
   "source": [
    "#dem so luong phan tu thoa man dk\n",
    "print(\"count of Phuong: \", studentList.count(\"Phuong\"))\n",
    "print(\"count of Thanh: \", studentList.count(\"Thanh\"))\n",
    "print(\"count of My: \", studentList.count(\"My\"))"
   ]
  },
  {
   "cell_type": "code",
   "execution_count": 32,
   "id": "c624fef7",
   "metadata": {},
   "outputs": [
    {
     "name": "stdout",
     "output_type": "stream",
     "text": [
      "['Phuong', 'Thanh', 'Thanh', 'Thanh']\n"
     ]
    }
   ],
   "source": [
    "#kiem tra phan tu co trong list\n",
    "if \"Linh\" in studentList:\n",
    "    studentList.remove(\"Linh\")\n",
    "    print(studentList)\n",
    "\n",
    "#xoa phan tu ra khoi list\n",
    "#tudentList.remove(\"Binh\")\n",
    "#rint(studentList)\n",
    "#xoa phan tu ra khoir list bang vi tri\n",
    "\n",
    "studentList.pop(0)\n",
    "print(studentList)"
   ]
  },
  {
   "cell_type": "code",
   "execution_count": 37,
   "id": "75ee6e9b",
   "metadata": {},
   "outputs": [
    {
     "name": "stdout",
     "output_type": "stream",
     "text": [
      "['Phuong', 'Thanh', 'Linh', 'Linh', 'Linh', 'Thanh', 'Thanh', 'Thanh', 'Thanh', 'Thanh']\n"
     ]
    }
   ],
   "source": [
    "print(studentList)"
   ]
  },
  {
   "cell_type": "code",
   "execution_count": 38,
   "id": "bad451fb",
   "metadata": {},
   "outputs": [
    {
     "name": "stdout",
     "output_type": "stream",
     "text": [
      "['Thanh', 'Thanh', 'Thanh', 'Thanh', 'Thanh', 'Linh', 'Linh', 'Linh', 'Thanh', 'Phuong']\n"
     ]
    }
   ],
   "source": [
    "#dao nguoc list\n",
    "studentList.reverse()\n",
    "print(studentList)"
   ]
  },
  {
   "cell_type": "code",
   "execution_count": 39,
   "id": "88aa4c98",
   "metadata": {},
   "outputs": [
    {
     "name": "stdout",
     "output_type": "stream",
     "text": [
      "['Linh', 'Linh', 'Linh', 'Phuong', 'Thanh', 'Thanh', 'Thanh', 'Thanh', 'Thanh', 'Thanh']\n"
     ]
    }
   ],
   "source": [
    "#sap xep lai\n",
    "studentList.sort()\n",
    "print(studentList)"
   ]
  },
  {
   "cell_type": "code",
   "execution_count": 40,
   "id": "a3736e82",
   "metadata": {},
   "outputs": [
    {
     "name": "stdout",
     "output_type": "stream",
     "text": [
      "[0, 1, 2, 2, 4, 5]\n"
     ]
    }
   ],
   "source": [
    "numbers= [4, 2, 1, 0, 5, 2]\n",
    "numbers.sort()\n",
    "print(numbers)"
   ]
  },
  {
   "cell_type": "code",
   "execution_count": 41,
   "id": "f773d48f",
   "metadata": {},
   "outputs": [
    {
     "name": "stdout",
     "output_type": "stream",
     "text": [
      "['Thanh', 'Thanh', 'Thanh', 'Thanh', 'Thanh', 'Thanh', 'Phuong', 'Linh', 'Linh', 'Linh']\n"
     ]
    }
   ],
   "source": [
    "#sap xeo nguoc\n",
    "studentList.sort(reverse=True)\n",
    "print(studentList)"
   ]
  },
  {
   "cell_type": "code",
   "execution_count": 44,
   "id": "81613af2",
   "metadata": {},
   "outputs": [
    {
     "name": "stdout",
     "output_type": "stream",
     "text": [
      "[5, 4, 2, 2, 1, 0]\n"
     ]
    }
   ],
   "source": [
    "numbers.sort(reverse= True)\n",
    "print(numbers)"
   ]
  },
  {
   "cell_type": "code",
   "execution_count": 45,
   "id": "7af55c18",
   "metadata": {},
   "outputs": [
    {
     "name": "stdout",
     "output_type": "stream",
     "text": [
      "[]\n"
     ]
    }
   ],
   "source": [
    "#xoa du lieu trong list\n",
    "studentList.clear()\n",
    "print(studentList)"
   ]
  },
  {
   "cell_type": "code",
   "execution_count": null,
   "id": "47118d1c",
   "metadata": {},
   "outputs": [],
   "source": []
  }
 ],
 "metadata": {
  "kernelspec": {
   "display_name": "Python 3 (ipykernel)",
   "language": "python",
   "name": "python3"
  },
  "language_info": {
   "codemirror_mode": {
    "name": "ipython",
    "version": 3
   },
   "file_extension": ".py",
   "mimetype": "text/x-python",
   "name": "python",
   "nbconvert_exporter": "python",
   "pygments_lexer": "ipython3",
   "version": "3.11.5"
  }
 },
 "nbformat": 4,
 "nbformat_minor": 5
}
