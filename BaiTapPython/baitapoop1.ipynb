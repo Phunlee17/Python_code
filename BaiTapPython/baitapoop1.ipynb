{
 "cells": [
  {
   "cell_type": "code",
   "execution_count": 1,
   "id": "84e53c01",
   "metadata": {},
   "outputs": [],
   "source": [
    "#xay dung class nagy: Ngay thang nam, cho biet, do la ngay thu bao nhieu trong nam\n",
    "#Thang do co bao nhieu ngay\n"
   ]
  },
  {
   "cell_type": "code",
   "execution_count": 16,
   "id": "4b41a7dd",
   "metadata": {},
   "outputs": [],
   "source": [
    "class Day:\n",
    "    #contructor\n",
    "    def __init__(self, val_day, val_month, val_year):\n",
    "        self.day = val_day\n",
    "        self.month = val_month\n",
    "        self.year = val_year\n",
    "    #xacdinh so ngay cua thang\n",
    "    @staticmethod\n",
    "    def soDayinYear(month, year):\n",
    "        if(month in [1, 3, 5, 7, 8, 10, 12]):\n",
    "            return 31\n",
    "        elif(month in [4, 6, 9, 11]):\n",
    "            return 30\n",
    "        elif(month == 2):\n",
    "            if(year%4==0 or (year%4==0 and year%100!=0)):\n",
    "                return 29\n",
    "            else:\n",
    "                return 28\n",
    "\n",
    "    def dayInYear(self):\n",
    "        val_dayInYear = 0\n",
    "        #tinh tong so luong ngay cua thang truoc\n",
    "        for x in range(1, self.month):\n",
    "            val_dayInYear += self.soDayinYear(x, self.year)\n",
    "        #cong them ngay cua thang hien tai\n",
    "        val_dayInYear+=self.day\n",
    "        return val_dayInYear\n",
    "        \n",
    "        "
   ]
  },
  {
   "cell_type": "code",
   "execution_count": 17,
   "id": "baa2148c",
   "metadata": {},
   "outputs": [
    {
     "name": "stdout",
     "output_type": "stream",
     "text": [
      "74\n"
     ]
    }
   ],
   "source": [
    "dayA = Day(15, 3, 2023)\n",
    "print(dayA.dayInYear())"
   ]
  },
  {
   "cell_type": "code",
   "execution_count": null,
   "id": "d6d36c96",
   "metadata": {},
   "outputs": [],
   "source": []
  }
 ],
 "metadata": {
  "kernelspec": {
   "display_name": "Python 3 (ipykernel)",
   "language": "python",
   "name": "python3"
  },
  "language_info": {
   "codemirror_mode": {
    "name": "ipython",
    "version": 3
   },
   "file_extension": ".py",
   "mimetype": "text/x-python",
   "name": "python",
   "nbconvert_exporter": "python",
   "pygments_lexer": "ipython3",
   "version": "3.11.5"
  }
 },
 "nbformat": 4,
 "nbformat_minor": 5
}
