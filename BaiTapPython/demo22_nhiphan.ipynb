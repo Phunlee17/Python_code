{
 "cells": [
  {
   "cell_type": "markdown",
   "id": "a042b4e7",
   "metadata": {},
   "source": []
  },
  {
   "cell_type": "code",
   "execution_count": 2,
   "id": "837e24af",
   "metadata": {},
   "outputs": [
    {
     "name": "stdout",
     "output_type": "stream",
     "text": [
      "Nhap vao n>0: 10\n",
      "n%2 =  0\n",
      " n=  5\n",
      "n%2 =  1\n",
      " n=  2\n",
      "n%2 =  0\n",
      " n=  1\n",
      "n%2 =  1\n",
      " n=  0\n",
      "ket qua:  1010 \n"
     ]
    }
   ],
   "source": [
    "#Nhao n\n",
    "n =-1\n",
    "while(n<=0):\n",
    "    n = int(input(\"Nhap vao n>0: \"))\n",
    "#chuyen tu thap phan sang nhi phan\n",
    "x = n\n",
    "ketQua = \" \"\n",
    "while(n>0):\n",
    "    ketQua = str(n%2) + ketQua\n",
    "    print(\"n%2 = \", n%2 )\n",
    "    n = n//2\n",
    "    print(\" n= \", n)\n",
    "\n",
    "print(\"ket qua: \", ketQua)\n",
    "   "
   ]
  },
  {
   "cell_type": "code",
   "execution_count": null,
   "id": "69e7f3f8",
   "metadata": {},
   "outputs": [],
   "source": []
  },
  {
   "cell_type": "code",
   "execution_count": null,
   "id": "3e3cf39f",
   "metadata": {},
   "outputs": [],
   "source": []
  }
 ],
 "metadata": {
  "kernelspec": {
   "display_name": "Python 3 (ipykernel)",
   "language": "python",
   "name": "python3"
  },
  "language_info": {
   "codemirror_mode": {
    "name": "ipython",
    "version": 3
   },
   "file_extension": ".py",
   "mimetype": "text/x-python",
   "name": "python",
   "nbconvert_exporter": "python",
   "pygments_lexer": "ipython3",
   "version": "3.11.5"
  }
 },
 "nbformat": 4,
 "nbformat_minor": 5
}
