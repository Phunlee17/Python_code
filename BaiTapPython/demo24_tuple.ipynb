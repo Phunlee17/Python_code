{
 "cells": [
  {
   "cell_type": "code",
   "execution_count": 4,
   "id": "fad9f417",
   "metadata": {},
   "outputs": [],
   "source": [
    "gioitinh = (\"Nam\", \"Nu\")"
   ]
  },
  {
   "cell_type": "code",
   "execution_count": 5,
   "id": "7f21dfc5",
   "metadata": {},
   "outputs": [],
   "source": [
    "lophoc = (1, 2, 3, 4, 5, 6, 7, 8, 9, 10, 11, 12)"
   ]
  },
  {
   "cell_type": "code",
   "execution_count": 6,
   "id": "2a7f8e9c",
   "metadata": {},
   "outputs": [],
   "source": [
    "traiCay = (\"Xoai\", \"Cam\", \"Man\", \"Cam\", \"Tao\")"
   ]
  },
  {
   "cell_type": "code",
   "execution_count": 7,
   "id": "88a46fcc",
   "metadata": {},
   "outputs": [
    {
     "name": "stdout",
     "output_type": "stream",
     "text": [
      "Nu\n"
     ]
    }
   ],
   "source": [
    "print(gioitinh[1])"
   ]
  },
  {
   "cell_type": "code",
   "execution_count": 10,
   "id": "330f0f33",
   "metadata": {},
   "outputs": [
    {
     "name": "stdout",
     "output_type": "stream",
     "text": [
      "11\n"
     ]
    }
   ],
   "source": [
    "print(lophoc[10])"
   ]
  },
  {
   "cell_type": "code",
   "execution_count": 12,
   "id": "23c28da8",
   "metadata": {},
   "outputs": [
    {
     "ename": "TypeError",
     "evalue": "'tuple' object does not support item assignment",
     "output_type": "error",
     "traceback": [
      "\u001b[1;31m---------------------------------------------------------------------------\u001b[0m",
      "\u001b[1;31mTypeError\u001b[0m                                 Traceback (most recent call last)",
      "Cell \u001b[1;32mIn[12], line 1\u001b[0m\n\u001b[1;32m----> 1\u001b[0m lophoc[\u001b[38;5;241m0\u001b[39m]\u001b[38;5;241m=\u001b[39m \u001b[38;5;241m1\u001b[39m\n",
      "\u001b[1;31mTypeError\u001b[0m: 'tuple' object does not support item assignment"
     ]
    }
   ],
   "source": [
    "lophoc[0]= 1"
   ]
  },
  {
   "cell_type": "code",
   "execution_count": 14,
   "id": "37e809fd",
   "metadata": {},
   "outputs": [
    {
     "name": "stdout",
     "output_type": "stream",
     "text": [
      "Xoai\n",
      "Cam\n",
      "Man\n",
      "Cam\n",
      "Tao\n"
     ]
    }
   ],
   "source": [
    "for x in traiCay:\n",
    "    print(x)"
   ]
  },
  {
   "cell_type": "code",
   "execution_count": 15,
   "id": "29410413",
   "metadata": {},
   "outputs": [
    {
     "name": "stdout",
     "output_type": "stream",
     "text": [
      "(1, 2, 3, 4, 5, 6)\n"
     ]
    }
   ],
   "source": [
    "y = (1, 2, 3) + (4, 5, 6)\n",
    "print(y)"
   ]
  },
  {
   "cell_type": "code",
   "execution_count": 16,
   "id": "c07ae7ee",
   "metadata": {},
   "outputs": [
    {
     "name": "stdout",
     "output_type": "stream",
     "text": [
      "(1, 2, 3, 1, 2, 3)\n"
     ]
    }
   ],
   "source": [
    "x = (1, 2, 3) * 2\n",
    "print(x)"
   ]
  },
  {
   "cell_type": "code",
   "execution_count": 17,
   "id": "a54d4b57",
   "metadata": {},
   "outputs": [
    {
     "name": "stdout",
     "output_type": "stream",
     "text": [
      "True\n"
     ]
    }
   ],
   "source": [
    "print(\"Xoai\" in traiCay)"
   ]
  },
  {
   "cell_type": "code",
   "execution_count": 18,
   "id": "fb602ef3",
   "metadata": {},
   "outputs": [
    {
     "name": "stdout",
     "output_type": "stream",
     "text": [
      "False\n"
     ]
    }
   ],
   "source": [
    "print(\"Quyt\" in traiCay)"
   ]
  },
  {
   "cell_type": "code",
   "execution_count": 19,
   "id": "96e1919c",
   "metadata": {},
   "outputs": [
    {
     "name": "stdout",
     "output_type": "stream",
     "text": [
      "5\n"
     ]
    }
   ],
   "source": [
    "x = len(traiCay)\n",
    "print(x)"
   ]
  },
  {
   "cell_type": "code",
   "execution_count": 20,
   "id": "199ca0fc",
   "metadata": {},
   "outputs": [
    {
     "name": "stdout",
     "output_type": "stream",
     "text": [
      "2\n"
     ]
    }
   ],
   "source": [
    "print(traiCay.count(\"Cam\"))"
   ]
  },
  {
   "cell_type": "code",
   "execution_count": 22,
   "id": "d9826c77",
   "metadata": {},
   "outputs": [
    {
     "name": "stdout",
     "output_type": "stream",
     "text": [
      "Cam\n",
      "Xoai\n",
      "78\n"
     ]
    }
   ],
   "source": [
    "print(min(traiCay))\n",
    "print(max(traiCay))\n",
    "print(sum(lophoc))"
   ]
  },
  {
   "cell_type": "code",
   "execution_count": 24,
   "id": "193be2c0",
   "metadata": {},
   "outputs": [
    {
     "name": "stdout",
     "output_type": "stream",
     "text": [
      "['Cam', 'Cam', 'Man', 'Tao', 'Xoai']\n"
     ]
    }
   ],
   "source": [
    "listTC = sorted(traiCay)\n",
    "print(listTC)"
   ]
  },
  {
   "cell_type": "code",
   "execution_count": null,
   "id": "fbebba6f",
   "metadata": {},
   "outputs": [],
   "source": []
  }
 ],
 "metadata": {
  "kernelspec": {
   "display_name": "Python 3 (ipykernel)",
   "language": "python",
   "name": "python3"
  },
  "language_info": {
   "codemirror_mode": {
    "name": "ipython",
    "version": 3
   },
   "file_extension": ".py",
   "mimetype": "text/x-python",
   "name": "python",
   "nbconvert_exporter": "python",
   "pygments_lexer": "ipython3",
   "version": "3.11.5"
  }
 },
 "nbformat": 4,
 "nbformat_minor": 5
}
