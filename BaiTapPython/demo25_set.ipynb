{
 "cells": [
  {
   "cell_type": "code",
   "execution_count": 1,
   "id": "70b2780c",
   "metadata": {},
   "outputs": [
    {
     "name": "stdout",
     "output_type": "stream",
     "text": [
      "{'Địa', 'Sử', 'Văn'}\n"
     ]
    }
   ],
   "source": [
    "#tạo set \n",
    "monHoc = {\"Văn\", \"Sử\", \"Địa\"}\n",
    "print(monHoc)"
   ]
  },
  {
   "cell_type": "code",
   "execution_count": 2,
   "id": "e4e6717d",
   "metadata": {},
   "outputs": [
    {
     "name": "stdout",
     "output_type": "stream",
     "text": [
      "Địa\n",
      "Sử\n",
      "Văn\n"
     ]
    }
   ],
   "source": [
    "for x in monHoc:\n",
    "    print(x)"
   ]
  },
  {
   "cell_type": "code",
   "execution_count": 3,
   "id": "b8b168ea",
   "metadata": {},
   "outputs": [
    {
     "name": "stdout",
     "output_type": "stream",
     "text": [
      "{'Toan', 'Địa', 'Sử', 'Văn'}\n"
     ]
    }
   ],
   "source": [
    "#them phan tu vào set\n",
    "monHoc.add(\"Toan\")\n",
    "print(monHoc)"
   ]
  },
  {
   "cell_type": "code",
   "execution_count": 5,
   "id": "fe99589d",
   "metadata": {},
   "outputs": [
    {
     "name": "stdout",
     "output_type": "stream",
     "text": [
      "{'Toan', 'Địa', 'ly', 'Văn', 'hoa', 'Sử'}\n"
     ]
    }
   ],
   "source": [
    "hocThem = {\"ly\", \"hoa\"}\n",
    "monHoc.update(hocThem)\n",
    "print(monHoc)"
   ]
  },
  {
   "cell_type": "code",
   "execution_count": 6,
   "id": "534e812c",
   "metadata": {},
   "outputs": [
    {
     "name": "stdout",
     "output_type": "stream",
     "text": [
      "['Vo', 'Hat', 'Vo']\n"
     ]
    }
   ],
   "source": [
    "#them list vao\n",
    "phuDao = [\"Vo\", \"Hat\", \"Vo\"]\n",
    "print(phuDao)\n",
    " "
   ]
  },
  {
   "cell_type": "code",
   "execution_count": 7,
   "id": "a46d5ae6",
   "metadata": {},
   "outputs": [
    {
     "name": "stdout",
     "output_type": "stream",
     "text": [
      "{'Toan', 'Địa', 'ly', 'Văn', 'hoa', 'Hat', 'Sử', 'Vo'}\n"
     ]
    }
   ],
   "source": [
    "monHoc.update(phuDao)\n",
    "print(monHoc)"
   ]
  },
  {
   "cell_type": "code",
   "execution_count": 10,
   "id": "fec89995",
   "metadata": {},
   "outputs": [
    {
     "name": "stdout",
     "output_type": "stream",
     "text": [
      "{'Văn', 'hoa', 'Hat', 'Sử', 'Vo'}\n"
     ]
    }
   ],
   "source": [
    "monHoc.pop()\n",
    "print(monHoc)"
   ]
  },
  {
   "cell_type": "code",
   "execution_count": null,
   "id": "2e37ba94",
   "metadata": {},
   "outputs": [],
   "source": [
    "moc=-"
   ]
  },
  {
   "cell_type": "code",
   "execution_count": null,
   "id": "30d5b5ae",
   "metadata": {},
   "outputs": [],
   "source": []
  }
 ],
 "metadata": {
  "kernelspec": {
   "display_name": "Python 3 (ipykernel)",
   "language": "python",
   "name": "python3"
  },
  "language_info": {
   "codemirror_mode": {
    "name": "ipython",
    "version": 3
   },
   "file_extension": ".py",
   "mimetype": "text/x-python",
   "name": "python",
   "nbconvert_exporter": "python",
   "pygments_lexer": "ipython3",
   "version": "3.11.5"
  }
 },
 "nbformat": 4,
 "nbformat_minor": 5
}
