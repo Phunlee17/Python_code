{
 "cells": [
  {
   "cell_type": "code",
   "execution_count": 6,
   "id": "74eea812",
   "metadata": {},
   "outputs": [
    {
     "name": "stdout",
     "output_type": "stream",
     "text": [
      "{'hovaTen': 'Le Mai Phuong', 'maSinhvien': '21IT574', 'queQuan ': 'Ha Tinh'}\n",
      "Le Mai Phuong\n"
     ]
    }
   ],
   "source": [
    "#ham dic\n",
    "\n",
    "sinhVien = {\n",
    "    \"hovaTen\" : \"Le Mai Phuong\",\n",
    "    \"maSinhvien\": \"21IT574\",\n",
    "    \"queQuan \" : \"Ha Tinh\"\n",
    "}\n",
    "print(sinhVien)\n",
    "\n",
    "print(sinhVien[\"hovaTen\"])"
   ]
  },
  {
   "cell_type": "code",
   "execution_count": 19,
   "id": "df13bf51",
   "metadata": {},
   "outputs": [
    {
     "name": "stdout",
     "output_type": "stream",
     "text": [
      "Nguyen Bao My\n",
      "{'hovaTen': 'Nguyen Bao My', 'queQuan': 'Ha Tinh', 'namSinh': '2002'}\n",
      "{'hovaTen': 'Nguyen Bao My', 'queQuan': 'Ha noi', 'namSinh': '2002'}\n"
     ]
    }
   ],
   "source": [
    "#su dung ham get\n",
    "\n",
    "sinhVien = {\n",
    "    \"hovaTen\" : \"Nguyen Bao My\",\n",
    "    \"queQuan\" : \"Phu Yen\",\n",
    "    \"namSinh\" : \"2002\"\n",
    "}\n",
    "\n",
    "x = sinhVien.get(\"hovaTen\")\n",
    "print(x)\n",
    "\n",
    "sinhVien[\"queQuan\"] = \"Ha Tinh\"\n",
    "print(sinhVien)\n",
    "\n",
    "sinhVien.update({\"queQuan\": \"Ha noi\"})\n",
    "print(sinhVien)\n"
   ]
  },
  {
   "cell_type": "code",
   "execution_count": 21,
   "id": "47af4343",
   "metadata": {},
   "outputs": [
    {
     "name": "stdout",
     "output_type": "stream",
     "text": [
      "{'hoTen': 'Le Mai Phuong', 'namSinh': '2002', 'noiSinh': 'Nghe An'}\n",
      "{'hoTen': 'Le Mai Phuong', 'namSinh': '2002', 'noiSinh': 'Nghe An', 'queQuan': 'Ha Tinh'}\n",
      "{'hoTen': 'Le Mai Phuong', 'namSinh': '2002', 'noiSinh': 'Nghe An', 'queQuan': 'Ha Tinh', 'nganh hoc': 'Ky thuat phan mem'}\n"
     ]
    }
   ],
   "source": [
    "#them cap key:value\n",
    "thongTin = {\n",
    "    \"hoTen\" : \"Le Mai Phuong\",\n",
    "    \"namSinh\": \"2002\",\n",
    "    \"noiSinh\": \"Nghe An\"\n",
    "}\n",
    "print(thongTin)\n",
    "\n",
    "thongTin[\"queQuan\"] = \"Ha Tinh\"\n",
    "print(thongTin)\n",
    "thongTin.update({\"nganh hoc\" : \"Ky thuat phan mem\"})\n",
    "print(thongTin)"
   ]
  },
  {
   "cell_type": "code",
   "execution_count": 23,
   "id": "93064fff",
   "metadata": {},
   "outputs": [
    {
     "name": "stdout",
     "output_type": "stream",
     "text": [
      "{'hoTen': 'Le Mai Phuong', 'namSinh': '2002', 'noiSinh': 'Nghe An'}\n",
      "{'hoTen': 'Le Mai Phuong', 'namSinh': '2002', 'noiSinh': 'Nghe An', 'queQuan': 'Ha Tinh', 'Nganh hoc': 'SE'}\n",
      "{'hoTen': 'Le Mai Phuong', 'namSinh': '2002', 'queQuan': 'Ha Tinh', 'Nganh hoc': 'SE'}\n",
      "{'hoTen': 'Le Mai Phuong', 'namSinh': '2002', 'queQuan': 'Ha Tinh'}\n",
      "{'hoTen': 'Le Mai Phuong', 'queQuan': 'Ha Tinh'}\n"
     ]
    }
   ],
   "source": [
    "#xoa thong tin\n",
    "\n",
    "thongTin = {\n",
    "    \"hoTen\" : \"Le Mai Phuong\",\n",
    "    \"namSinh\": \"2002\",\n",
    "    \"noiSinh\": \"Nghe An\"\n",
    "}\n",
    "print(thongTin)\n",
    "thongTin[\"queQuan\"] = \"Ha Tinh\"\n",
    "thongTin.update({\"Nganh hoc\" : \"SE\"})\n",
    "print(thongTin)\n",
    "\n",
    "thongTin.pop(\"noiSinh\")\n",
    "print(thongTin)\n",
    "\n",
    "thongTin.popitem()\n",
    "print(thongTin)\n",
    "\n",
    "del thongTin[\"namSinh\"]\n",
    "print(thongTin)\n"
   ]
  },
  {
   "cell_type": "code",
   "execution_count": null,
   "id": "6bf5680d",
   "metadata": {},
   "outputs": [],
   "source": []
  }
 ],
 "metadata": {
  "kernelspec": {
   "display_name": "Python 3 (ipykernel)",
   "language": "python",
   "name": "python3"
  },
  "language_info": {
   "codemirror_mode": {
    "name": "ipython",
    "version": 3
   },
   "file_extension": ".py",
   "mimetype": "text/x-python",
   "name": "python",
   "nbconvert_exporter": "python",
   "pygments_lexer": "ipython3",
   "version": "3.11.5"
  }
 },
 "nbformat": 4,
 "nbformat_minor": 5
}
