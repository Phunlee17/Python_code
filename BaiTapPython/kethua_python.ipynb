{
 "cells": [
  {
   "cell_type": "code",
   "execution_count": 15,
   "id": "89e09d16",
   "metadata": {},
   "outputs": [],
   "source": [
    "#baitap ve dong vat\n",
    "#xay dung class \"Cha\"\n",
    "class Animal():\n",
    "    #contructor: xaydung ra doi tuong\n",
    "    def __init__(self, animalType, name, width, height, weight):\n",
    "        self.animalType = animalType\n",
    "        self.name = name\n",
    "        self.width = width\n",
    "        self.height = height\n",
    "        self.weight = weight\n",
    "    #phat ra am thanh, tieng keu\n",
    "    def makeVoice(self):\n",
    "        print(\"Unknow voice\")\n",
    "    #in thong tin\n",
    "    def printMe(self):\n",
    "        print(\"animalType: {0}, name = {1}, width ={2}, height ={3}, weight = {4}\". format(self.animalType, self.name, self.width, self.height, self.weight))"
   ]
  },
  {
   "cell_type": "code",
   "execution_count": 16,
   "id": "ec4f9a4c",
   "metadata": {},
   "outputs": [
    {
     "name": "stdout",
     "output_type": "stream",
     "text": [
      "Unknow voice\n",
      "animalType: Nguoi, name = Phuong , width = , height =158cm, weight = 48kg\n"
     ]
    }
   ],
   "source": [
    "a1 = Animal(\"Nguoi\", \"Phuong \",\" \", \"158cm\", \"48kg\" )\n",
    "a1.makeVoice()\n",
    "a1.printMe()"
   ]
  },
  {
   "cell_type": "code",
   "execution_count": 29,
   "id": "c1baf405",
   "metadata": {},
   "outputs": [],
   "source": [
    "class Dog(Animal):\n",
    "    #contructor cua lop con\n",
    "    def __init__(self, name, width, height, weight, isChampion):\n",
    "        Animal.__init__(self, \"Dog\", name, width, height, weight)\n",
    "        #gan gia tri cac thuoc tinh bo sung\n",
    "        self.isChampion = isChampion\n",
    "        \n",
    "    #overide method\n",
    "    def makeVoice(self):\n",
    "        print(\"{0}: gau gau\". format(self.name))\n",
    "        \n",
    "    def takecareHome(self):\n",
    "        print(\"{0}: ZZZZzzzzz\".format(self.name))"
   ]
  },
  {
   "cell_type": "code",
   "execution_count": 30,
   "id": "cefc7aba",
   "metadata": {},
   "outputs": [
    {
     "name": "stdout",
     "output_type": "stream",
     "text": [
      "Milu: gau gau\n",
      "animalType: Dog, name = Milu, width =80cm, height =120cm, weight = 10kg\n",
      "Milu: ZZZZzzzzz\n",
      "Nho: gau gau\n",
      "animalType: Dog, name = Nho, width =100cm, height =140cm, weight = 20kg\n"
     ]
    }
   ],
   "source": [
    "dog1 = Dog(\"Milu\", \"80cm\", \"120cm\", \"10kg\", True )\n",
    "dog2 = Dog(\"Nho\", \"100cm\", \"140cm\", \"20kg\", True )\n",
    "dog1.makeVoice()\n",
    "dog1.printMe()\n",
    "dog1.takecareHome()\n",
    "dog2.makeVoice()\n",
    "dog2.printMe()"
   ]
  },
  {
   "cell_type": "code",
   "execution_count": 31,
   "id": "a6b3539e",
   "metadata": {},
   "outputs": [],
   "source": [
    "class Cat(Animal):\n",
    "    #contructor\n",
    "    def __init__(self, name, width, height, weight, color):\n",
    "        Animal.__init__(self, \"Cat\", name, width, height, weight)\n",
    "        self.color = color\n",
    "    \n",
    "    #override method\n",
    "    def makeVoice(self):\n",
    "        print(\"{0}: meow meow\".format(self.name))\n",
    "    def catchMouse(self):\n",
    "        print(\"{0}: Catch a mouse\".format(self.name))"
   ]
  },
  {
   "cell_type": "code",
   "execution_count": 32,
   "id": "1f0b42a2",
   "metadata": {},
   "outputs": [
    {
     "name": "stdout",
     "output_type": "stream",
     "text": [
      "Tom: meow meow\n",
      "animalType: Cat, name = Tom, width =30cm, height =50cm, weight = 2kg\n",
      "Tom: Catch a mouse\n",
      "Mimi: meow meow\n",
      "animalType: Cat, name = Mimi, width =40cm, height =20cm, weight = 5kg\n"
     ]
    }
   ],
   "source": [
    "cat1 = Cat(\"Tom\", \"30cm\", \"50cm\", \"2kg\", \"Blue\")\n",
    "cat2 = Cat(\"Mimi\", \"40cm\", \"20cm\", \"5kg\", \"Black\")\n",
    "cat1.makeVoice()\n",
    "cat1.printMe()\n",
    "cat1.catchMouse()\n",
    "cat2.makeVoice()\n",
    "cat2.printMe()"
   ]
  },
  {
   "cell_type": "code",
   "execution_count": null,
   "id": "2c922b7c",
   "metadata": {},
   "outputs": [],
   "source": []
  }
 ],
 "metadata": {
  "kernelspec": {
   "display_name": "Python 3 (ipykernel)",
   "language": "python",
   "name": "python3"
  },
  "language_info": {
   "codemirror_mode": {
    "name": "ipython",
    "version": 3
   },
   "file_extension": ".py",
   "mimetype": "text/x-python",
   "name": "python",
   "nbconvert_exporter": "python",
   "pygments_lexer": "ipython3",
   "version": "3.11.5"
  }
 },
 "nbformat": 4,
 "nbformat_minor": 5
}
