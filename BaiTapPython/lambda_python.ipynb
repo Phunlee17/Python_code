{
 "cells": [
  {
   "cell_type": "code",
   "execution_count": 2,
   "id": "e3217f12",
   "metadata": {},
   "outputs": [
    {
     "name": "stdout",
     "output_type": "stream",
     "text": [
      "False\n",
      "True\n"
     ]
    }
   ],
   "source": [
    "# vi du ve sdung ham lambda\n",
    "kiemtraSochan = lambda a: (a%2==0)\n",
    "print(kiemtraSochan(5))\n",
    "print(kiemtraSochan(2))"
   ]
  },
  {
   "cell_type": "code",
   "execution_count": 3,
   "id": "4d984a43",
   "metadata": {},
   "outputs": [
    {
     "name": "stdout",
     "output_type": "stream",
     "text": [
      "15\n"
     ]
    }
   ],
   "source": [
    "tinhTong = lambda a, b: a+b\n",
    "print(tinhTong(5, 10))"
   ]
  },
  {
   "cell_type": "code",
   "execution_count": 8,
   "id": "0ff63dfe",
   "metadata": {},
   "outputs": [
    {
     "name": "stdout",
     "output_type": "stream",
     "text": [
      "9\n",
      "27\n",
      "81\n"
     ]
    }
   ],
   "source": [
    "#vidu su dung ham lambda trong cac function\n",
    "def hamMu(n):\n",
    "    return lambda x: x**n\n",
    "\n",
    "#tinh hma lambda\n",
    "hamMu2 = hamMu(2)\n",
    "hamMu3 = hamMu(3)\n",
    "hamMu4 = hamMu(4)\n",
    "\n",
    "#in gia tri\n",
    "print(hamMu2(3))\n",
    "print(hamMu3(3))\n",
    "print(hamMu4(3))"
   ]
  },
  {
   "cell_type": "code",
   "execution_count": null,
   "id": "1b902c1c",
   "metadata": {},
   "outputs": [],
   "source": []
  }
 ],
 "metadata": {
  "kernelspec": {
   "display_name": "Python 3 (ipykernel)",
   "language": "python",
   "name": "python3"
  },
  "language_info": {
   "codemirror_mode": {
    "name": "ipython",
    "version": 3
   },
   "file_extension": ".py",
   "mimetype": "text/x-python",
   "name": "python",
   "nbconvert_exporter": "python",
   "pygments_lexer": "ipython3",
   "version": "3.11.5"
  }
 },
 "nbformat": 4,
 "nbformat_minor": 5
}
