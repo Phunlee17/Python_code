{
 "cells": [
  {
   "cell_type": "code",
   "execution_count": 4,
   "id": "da115e88",
   "metadata": {},
   "outputs": [],
   "source": [
    "#vidu ve tao class don gian\n",
    "class SimpleClass():\n",
    "    i = 5 #attribute\n",
    "    def __init__(self): #init\n",
    "        self.j=7\n",
    "    def printMe(self): #methods\n",
    "        print(self.j)\n",
    "        "
   ]
  },
  {
   "cell_type": "code",
   "execution_count": 6,
   "id": "acf4c2a8",
   "metadata": {},
   "outputs": [
    {
     "name": "stdout",
     "output_type": "stream",
     "text": [
      "7\n",
      "5\n"
     ]
    }
   ],
   "source": [
    "obA = SimpleClass()\n",
    "obB = SimpleClass()\n",
    "\n",
    "obA.printMe()\n",
    "print(obB.i)"
   ]
  },
  {
   "cell_type": "code",
   "execution_count": 7,
   "id": "0852223e",
   "metadata": {},
   "outputs": [
    {
     "name": "stdout",
     "output_type": "stream",
     "text": [
      "100\n",
      "700\n"
     ]
    }
   ],
   "source": [
    "obA.i = 100\n",
    "obB.j= 700\n",
    "print(obA.i)\n",
    "print(obB.j)"
   ]
  },
  {
   "cell_type": "code",
   "execution_count": 10,
   "id": "d4150154",
   "metadata": {},
   "outputs": [],
   "source": [
    "class SimpleClass2():\n",
    "    def __init__(self): #contructor\n",
    "        self.name= \" Phuong Le \"\n",
    "    def hello(self): #methods\n",
    "        print(\"Hello\" + self.name)\n",
    "    @staticmethod #static methods\n",
    "    def hi(name):\n",
    "        print(\"Hi\" + name)"
   ]
  },
  {
   "cell_type": "code",
   "execution_count": 14,
   "id": "6ac8fdb2",
   "metadata": {},
   "outputs": [
    {
     "name": "stdout",
     "output_type": "stream",
     "text": [
      "Hello Phuong Le \n",
      "Hi Bao My \n"
     ]
    }
   ],
   "source": [
    "obC = SimpleClass2()\n",
    "obD = SimpleClass2()\n",
    "\n",
    "obC.hello()\n",
    "obD.hi(\" Bao My \")\n",
    "\n"
   ]
  },
  {
   "cell_type": "code",
   "execution_count": null,
   "id": "0a392edf",
   "metadata": {},
   "outputs": [],
   "source": []
  }
 ],
 "metadata": {
  "kernelspec": {
   "display_name": "Python 3 (ipykernel)",
   "language": "python",
   "name": "python3"
  },
  "language_info": {
   "codemirror_mode": {
    "name": "ipython",
    "version": 3
   },
   "file_extension": ".py",
   "mimetype": "text/x-python",
   "name": "python",
   "nbconvert_exporter": "python",
   "pygments_lexer": "ipython3",
   "version": "3.11.5"
  }
 },
 "nbformat": 4,
 "nbformat_minor": 5
}
